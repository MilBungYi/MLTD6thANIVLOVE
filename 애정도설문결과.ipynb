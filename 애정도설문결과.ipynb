{
 "cells": [
  {
   "cell_type": "code",
   "execution_count": 1,
   "id": "544f85a4",
   "metadata": {},
   "outputs": [],
   "source": [
    "import pandas as pd\n",
    "import matplotlib.pyplot as plt\n",
    "import seaborn as sns\n",
    "import warnings\n",
    "warnings.filterwarnings('ignore')\n",
    "\n",
    "plt.rcParams[\"font.family\"] = 'NanumGothic'"
   ]
  },
  {
   "cell_type": "code",
   "execution_count": null,
   "id": "db35259e",
   "metadata": {},
   "outputs": [],
   "source": [
    "df_org = pd.read_csv(\"밀리시타 애정도 설문(응답) - 설문지 응답 시트1.csv\")"
   ]
  },
  {
   "cell_type": "code",
   "execution_count": null,
   "id": "9d41669a",
   "metadata": {},
   "outputs": [],
   "source": [
    "df_org.head(1)"
   ]
  },
  {
   "cell_type": "code",
   "execution_count": null,
   "id": "15db8063",
   "metadata": {},
   "outputs": [],
   "source": [
    "df_org.shape"
   ]
  },
  {
   "cell_type": "code",
   "execution_count": null,
   "id": "57953d26",
   "metadata": {},
   "outputs": [],
   "source": [
    "df = df_org.copy()"
   ]
  },
  {
   "cell_type": "code",
   "execution_count": null,
   "id": "37debe6a",
   "metadata": {},
   "outputs": [],
   "source": [
    "color = '#673AB7'"
   ]
  },
  {
   "cell_type": "markdown",
   "id": "0f17d911",
   "metadata": {},
   "source": [
    "# 담당 아이돌"
   ]
  },
  {
   "cell_type": "markdown",
   "id": "7611187b",
   "metadata": {},
   "source": [
    "## 담당 수"
   ]
  },
  {
   "cell_type": "code",
   "execution_count": null,
   "id": "8c36d4db",
   "metadata": {},
   "outputs": [],
   "source": [
    "num_idol = df['당신의 담당 아이돌은 누구인가요?'].str.split(',').str.len().value_counts()\n",
    "\n",
    "x_plot_min = 0\n",
    "x_plot_max =15\n",
    "\n",
    "\n",
    "fig, ax = plt.subplots(figsize=(12, 6), facecolor='white')\n",
    "for location in ['right', 'top', 'left']:\n",
    "    ax.spines[location].set_linewidth(0)\n",
    "plt.bar(x=num_idol.index, height=num_idol.values, color=color, width=0.6)\n",
    "plt.xlim((x_plot_min, x_plot_max))\n",
    "\n",
    "# annotate\n",
    "for idx, val in zip(num_idol.index, num_idol.values):\n",
    "    annot = f'{val}\\n({val/len(df)*100:.1f}%)\\n|'\n",
    "    plt.annotate(text=annot, xy=(idx, val), ha='center', va='bottom', fontsize=13)\n",
    "\n",
    "plt.grid(axis='y')\n",
    "plt.xticks(range(x_plot_min, x_plot_max))\n",
    "plt.yticks(range(0, max(num_idol) // 10 * 10 + 15, 10))\n",
    "plt.ylim((0, max(num_idol) // 10 * 10 + 15))\n",
    "plt.tick_params(length=0)\n",
    "plt.title(f'담당하고 있는 아이돌의 수\\n평균 {(num_idol[num_idol.index < 20] * num_idol[num_idol.index < 20].index).sum() / num_idol[num_idol.index < 20].sum():.2f}명', fontsize=18)\n",
    "plt.show()"
   ]
  },
  {
   "cell_type": "code",
   "execution_count": null,
   "id": "a6f8d56a",
   "metadata": {},
   "outputs": [],
   "source": [
    "df[df['당신의 담당 아이돌은 누구인가요?'].str.split(',').str.len() >= 20].shape"
   ]
  },
  {
   "cell_type": "markdown",
   "id": "7a762685",
   "metadata": {},
   "source": [
    "## 합승 많은 아이돌"
   ]
  },
  {
   "cell_type": "code",
   "execution_count": null,
   "id": "314a4d44",
   "metadata": {},
   "outputs": [],
   "source": [
    "idols = ['하루카', '치하야', '미키', '유키호', '야요이', '마코토', '이오리', '타카네', '리츠코', '아즈사', '아미', '마미', '히비키',\n",
    "        '미라이', '시즈카', '츠바사', '코토하', '엘레나', '미나코', '메구미', '마츠리', '세리카', '아카네', '안나', '로코', '유리코',\n",
    "        '사요코', '아리사', '우미', '이쿠', '토모카', '에밀리', '시호', '아유무', '히나타', '카나', '나오', '치즈루', '코노미',\n",
    "        '타마키', '후카', '미야', '노리코', '미즈키', '카렌', '리오', '스바루', '레이카', '모모코', '줄리아', '츠무기', '카오리']\n",
    "\n",
    "df_idol_join = df[(df['당신의 담당 아이돌은 누구인가요?'].str.split(',').str.len() > 1) & (df['당신의 담당 아이돌은 누구인가요?'].str.split(',').str.len() < 20)]['당신의 담당 아이돌은 누구인가요?']"
   ]
  },
  {
   "cell_type": "code",
   "execution_count": null,
   "id": "0e1e35ac",
   "metadata": {},
   "outputs": [],
   "source": [
    "idol_join = {idol:0 for idol in idols}\n",
    "\n",
    "for val in df_idol_join.values:\n",
    "    val_idols = val.split(', ')\n",
    "    for val_idol in val_idols:\n",
    "        idol_join[val_idol] += 1"
   ]
  },
  {
   "cell_type": "code",
   "execution_count": null,
   "id": "f03b7d9f",
   "metadata": {},
   "outputs": [],
   "source": [
    "y = list(idol_join.keys())[::-1]\n",
    "x = list(idol_join.values())[::-1]\n",
    "\n",
    "fig, ax = plt.subplots(figsize=(15, 20), facecolor='white')\n",
    "for location in ['right', 'top', 'bottom']:\n",
    "    ax.spines[location].set_linewidth(0)\n",
    "plt.barh(y=y, width=x, color=color, height=0.6)\n",
    "\n",
    "x_plot_min = 0\n",
    "x_plot_max = max(x) + 2\n",
    "\n",
    "plt.xlim((x_plot_min, x_plot_max))\n",
    "\n",
    "# annotate\n",
    "for idx, val in zip(y, x):\n",
    "    annot = f'─ {val} ({val/len(df)*100:.1f}%)'\n",
    "    plt.annotate(text=annot, xy=(val, idx), ha='left', va='center', fontsize=13)\n",
    "\n",
    "plt.grid(axis='x')\n",
    "plt.xticks(range(x_plot_min, x_plot_max, 2))\n",
    "plt.yticks(y, fontsize=13)\n",
    "plt.ylim((-0.5, len(y)-0.5))\n",
    "plt.tick_params(length=0)\n",
    "plt.title(f'합승 수 많은 아이돌', fontsize=18)\n",
    "plt.show()"
   ]
  },
  {
   "cell_type": "markdown",
   "id": "88100773",
   "metadata": {},
   "source": [
    "## 서로 많이 담당되는 아이돌"
   ]
  },
  {
   "cell_type": "code",
   "execution_count": null,
   "id": "d4f288c7",
   "metadata": {},
   "outputs": [],
   "source": [
    "from itertools import combinations\n",
    "\n",
    "idol_cmb = list(combinations(idols, 2))\n",
    "idol_cmb = [f'{i1}-{i2}' for i1, i2 in idol_cmb]"
   ]
  },
  {
   "cell_type": "code",
   "execution_count": null,
   "id": "72408f01",
   "metadata": {},
   "outputs": [],
   "source": [
    "idol_cmb_dict = {cmb:0 for cmb in idol_cmb}\n",
    "\n",
    "for val in df_idol_join.values:\n",
    "    val_idols = val.split(', ')\n",
    "    val_cmb = list(combinations(val_idols, 2))\n",
    "    val_cmb = [f'{i1}-{i2}' for i1, i2 in val_cmb]\n",
    "    for v_cmb in val_cmb:\n",
    "        idol_cmb_dict[v_cmb] += 1"
   ]
  },
  {
   "cell_type": "code",
   "execution_count": null,
   "id": "92e55320",
   "metadata": {},
   "outputs": [],
   "source": [
    "dict(filter(lambda x:x[1] > 2, idol_cmb_dict.items()))"
   ]
  },
  {
   "cell_type": "code",
   "execution_count": null,
   "id": "d33d8343",
   "metadata": {},
   "outputs": [],
   "source": [
    "dict(filter(lambda x:x[1] == 2, idol_cmb_dict.items()))"
   ]
  },
  {
   "cell_type": "code",
   "execution_count": null,
   "id": "1328f68d",
   "metadata": {},
   "outputs": [],
   "source": [
    "idol_cmb_dict['에밀리-츠무기']"
   ]
  },
  {
   "cell_type": "code",
   "execution_count": null,
   "id": "de311da5",
   "metadata": {},
   "outputs": [],
   "source": [
    "idol_cmb_dict['이쿠-타마키']"
   ]
  },
  {
   "cell_type": "code",
   "execution_count": null,
   "id": "b244cde1",
   "metadata": {},
   "outputs": [],
   "source": [
    "idol_cmb_dict['안나-로코']"
   ]
  },
  {
   "cell_type": "markdown",
   "id": "b0e39d96",
   "metadata": {},
   "source": [
    "## 플레이 기간 - 담당 아이돌 평균"
   ]
  },
  {
   "cell_type": "code",
   "execution_count": null,
   "id": "1cb55f67",
   "metadata": {},
   "outputs": [],
   "source": [
    "df_play_avg_idol = df[['당신의 담당 아이돌은 누구인가요?', '밀리시타를 얼마나 오랜 기간 플레이 중인가요?']]\n",
    "df_play_avg_idol['담당수'] = df_play_avg_idol['당신의 담당 아이돌은 누구인가요?'].str.split(',').str.len()\n",
    "df_play_avg_idol = df_play_avg_idol[df_play_avg_idol['담당수']<20]\n",
    "df_play_avg_idol_group = df_play_avg_idol.groupby(['밀리시타를 얼마나 오랜 기간 플레이 중인가요?']).mean()[['담당수']]\n",
    "df_play_avg_idol_group"
   ]
  },
  {
   "cell_type": "code",
   "execution_count": null,
   "id": "21cb3ceb",
   "metadata": {},
   "outputs": [],
   "source": [
    "y = list(df_play_avg_idol_group.index)[::-1]\n",
    "x = list(df_play_avg_idol_group.iloc[:,0].values)[::-1]\n",
    "\n",
    "fig, ax = plt.subplots(figsize=(12, 4), facecolor='white')\n",
    "for location in ['right', 'top', 'bottom']:\n",
    "    ax.spines[location].set_linewidth(0)\n",
    "plt.barh(y=y, width=x, color=color, height=0.6)\n",
    "\n",
    "x_plot_min = 0\n",
    "x_plot_max = max(x)+0.1\n",
    "\n",
    "plt.xlim((x_plot_min, x_plot_max))\n",
    "\n",
    "# annotate\n",
    "for idx, val in zip(y, x):\n",
    "    annot = f'─ {val:.2f}명'\n",
    "    plt.annotate(text=annot, xy=(val, idx), ha='left', va='center', fontsize=13)\n",
    "\n",
    "plt.grid(axis='x')\n",
    "plt.xticks(range(x_plot_min, int(x_plot_max)+1))\n",
    "plt.yticks(y, fontsize=13)\n",
    "plt.tick_params(length=0)\n",
    "\n",
    "plt.title(f'평균 담당 아이돌 수', fontsize=18)\n",
    "plt.show()"
   ]
  },
  {
   "cell_type": "markdown",
   "id": "31b4cd43",
   "metadata": {},
   "source": [
    "# 유입"
   ]
  },
  {
   "cell_type": "code",
   "execution_count": null,
   "id": "7c5564ed",
   "metadata": {},
   "outputs": [],
   "source": [
    "def make_counts_etc(data, column_name, categories):\n",
    "    \"\"\"\n",
    "    설문 항목에서 \"기타\" 부분을 하나로 묶어, 각 항목들의 개수를 세어주는 함수\n",
    "    \n",
    "    \n",
    "    data: pd.DataFrame\n",
    "    column_name: 열 이름\n",
    "    categories: 항목 이름\n",
    "    \"\"\"\n",
    "    import copy\n",
    "    categories = copy.deepcopy(categories)\n",
    "    \n",
    "    if '기타' not in categories:\n",
    "        categories.append('기타')\n",
    "        \n",
    "    counts = {cate:0 for cate in categories}\n",
    "    etcs = []\n",
    "\n",
    "    for val in data[column_name].values:\n",
    "        val_tmp = val\n",
    "        for cate in categories:\n",
    "            if cate in val_tmp:\n",
    "                counts[cate] += 1\n",
    "                val_tmp = val_tmp.replace(cate, '')\n",
    "\n",
    "        val_tmp = val_tmp.replace(',', '').strip()\n",
    "        if len(val_tmp) > 0:\n",
    "            counts['기타'] += 1\n",
    "            etcs.append(val_tmp)\n",
    "            \n",
    "    return counts, etcs"
   ]
  },
  {
   "cell_type": "code",
   "execution_count": null,
   "id": "efd5f4ad",
   "metadata": {},
   "outputs": [],
   "source": [
    "in_values = ['그리마스', '아이돌마스터 애니(본가)', '아이돌마스터 애니(신데마스)', '아이돌마스터 애니(사이드엠)', '아이돌마스터 애니(U-149)',\n",
    "            '아이돌마스터 애니(밀리언 라이브) 소식 (vs밀리애니)', '아케마스(2005) ~ 스텔라 스테이지(2017) 사이의 아이마스 콘솔 게임',\n",
    "            '스탈릿 시즌(2021)', '밀리시타 한국 서버', '신데렐라 걸즈의 IP 게임 (데레스테 등)', '사이드엠 IP의 게임', \n",
    "            '샤이니 컬러즈 IP의 게임', '리듬 게임 찾다가', '씹덕 게임 찾다가', '커뮤니티(디시, 아카라이브 등) 유입 (타갤에서 짤이나 디시콘 등으로)',\n",
    "            '기타']\n",
    "\n",
    "in_counts, etcs = make_counts_etc(df, '밀리시타에 어떻게 유입되었나요?', in_values)"
   ]
  },
  {
   "cell_type": "code",
   "execution_count": null,
   "id": "ba3adf88",
   "metadata": {},
   "outputs": [],
   "source": [
    "in_counts"
   ]
  },
  {
   "cell_type": "code",
   "execution_count": null,
   "id": "f1600d4c",
   "metadata": {},
   "outputs": [],
   "source": [
    "for etc in etcs:\n",
    "    print(etc)"
   ]
  },
  {
   "cell_type": "markdown",
   "id": "882bd761",
   "metadata": {},
   "source": [
    "- 친구, 지인 14\n",
    "- 인방, 유튜브 8\n",
    "- 노래 8\n",
    "- 나무위키 2\n",
    "- 배우기\n",
    "- 동방이랑 페이트 맛보다가 3대장인 아이마스는 뭘까...하고 찍어먹으려다 풍덩빠죴음\n",
    "- 떡인지\n",
    "- 어쩌다 무료연 준다길래 듣고 시작함\n",
    "- 믿갸지지 않겠지만 아이돌마스터 KR\n",
    "- 군대에서 나온 소식듣고 전역후 짬짬히시작\n",
    "- 태고의 달인 키라메키라리\n",
    "- 아즈사씨를 보고 한눈에 반함\n",
    "- 코로나 시기 할거없어서 애니마스보고 감동받아 조타를 찾아서 깔게됨\n",
    "- 푸치마스\n",
    "- 방도리하다가 옆집겜 나와서 출시일부터 달림\n",
    "- 굿즈샵에서 아크릴 키링을 샀는데 그게 아카네였고 그대로 밀리 유입"
   ]
  },
  {
   "cell_type": "code",
   "execution_count": null,
   "id": "162360dc",
   "metadata": {},
   "outputs": [],
   "source": [
    "y = list(in_counts.keys())[::-1]\n",
    "x = list(in_counts.values())[::-1]\n",
    "\n",
    "fig, ax = plt.subplots(figsize=(15, 8), facecolor='white')\n",
    "for location in ['right', 'top', 'bottom']:\n",
    "    ax.spines[location].set_linewidth(0)\n",
    "    \n",
    "plt.barh(y=y, width=x, color=color, height=0.6)\n",
    "\n",
    "x_plot_min = 0\n",
    "x_plot_max = max(x) + 10\n",
    "\n",
    "plt.xlim((x_plot_min, x_plot_max))\n",
    "\n",
    "# annotate\n",
    "for idx, val in zip(y, x):\n",
    "    annot = f'─ {val} ({val/len(df)*100:.1f}%)'\n",
    "    plt.annotate(text=annot, xy=(val, idx), ha='left', va='center', fontsize=13)\n",
    "\n",
    "plt.grid(axis='x')\n",
    "plt.xticks(range(x_plot_min, x_plot_max, 10))\n",
    "plt.yticks(y, fontsize=13)\n",
    "plt.ylim((-0.5, len(y)-0.5))\n",
    "plt.tick_params(length=0)\n",
    "\n",
    "plt.title(f'유입 유형', fontsize=18)\n",
    "plt.show()"
   ]
  },
  {
   "cell_type": "markdown",
   "id": "0f4779ec",
   "metadata": {},
   "source": [
    "# 애정도 점수"
   ]
  },
  {
   "cell_type": "code",
   "execution_count": null,
   "id": "3a98dc40",
   "metadata": {},
   "outputs": [],
   "source": [
    "df_play = df_org.copy()"
   ]
  },
  {
   "cell_type": "code",
   "execution_count": null,
   "id": "be36727e",
   "metadata": {},
   "outputs": [],
   "source": [
    "df_play['밀리시타에 대한 애정도를 숫자로 표현한다면?'].mean()"
   ]
  },
  {
   "cell_type": "markdown",
   "id": "e981910f",
   "metadata": {},
   "source": [
    "## 플레이 기간 - 애정도 관계"
   ]
  },
  {
   "cell_type": "code",
   "execution_count": null,
   "id": "a11092dc",
   "metadata": {},
   "outputs": [],
   "source": [
    "df_play_group = df_play.groupby(['밀리시타를 얼마나 오랜 기간 플레이 중인가요?']).mean()[['밀리시타에 대한 애정도를 숫자로 표현한다면?']]\n",
    "df_play_group"
   ]
  },
  {
   "cell_type": "code",
   "execution_count": null,
   "id": "a6429fc1",
   "metadata": {},
   "outputs": [],
   "source": [
    "y = list(df_play_group.index)[::-1]\n",
    "x = list(df_play_group.iloc[:,0].values)[::-1]\n",
    "\n",
    "fig, ax = plt.subplots(figsize=(15, 4), facecolor='white')\n",
    "for location in ['right', 'top', 'bottom']:\n",
    "    ax.spines[location].set_linewidth(0)\n",
    "plt.barh(y=y, width=x, color=color, height=0.6)\n",
    "\n",
    "x_plot_min = 0\n",
    "x_plot_max = 10\n",
    "\n",
    "plt.xlim((x_plot_min, x_plot_max))\n",
    "\n",
    "# annotate\n",
    "for idx, val in zip(y, x):\n",
    "    annot = f'─ {val:.2f}점'\n",
    "    plt.annotate(text=annot, xy=(val, idx), ha='left', va='center', fontsize=13)\n",
    "\n",
    "plt.grid(axis='x')\n",
    "plt.xticks(range(x_plot_min, x_plot_max))\n",
    "plt.yticks(y, fontsize=13)\n",
    "plt.tick_params(length=0)\n",
    "\n",
    "plt.title(f'애정도 평균 점수', fontsize=18)\n",
    "plt.show()"
   ]
  },
  {
   "cell_type": "code",
   "execution_count": null,
   "id": "c5dce049",
   "metadata": {},
   "outputs": [],
   "source": [
    "pd.pivot_table(data=df_play, index='밀리시타를 얼마나 오랜 기간 플레이 중인가요?', columns='밀리시타에 대한 애정도를 숫자로 표현한다면?', aggfunc='count', values='타임스탬프').fillna(0).astype(int)"
   ]
  },
  {
   "cell_type": "markdown",
   "id": "1b68a8e9",
   "metadata": {},
   "source": [
    "# 좋아하는 이유"
   ]
  },
  {
   "cell_type": "code",
   "execution_count": null,
   "id": "ce8fe2de",
   "metadata": {},
   "outputs": [],
   "source": [
    "like_values = ['아이돌이 예쁘고 귀여워서', '아이돌 및 이벤트 커뮤가 재미있어서', '일러스트 및 공식 만화(4컷, 오프샷 등) 퀄리티가 좋아서',\n",
    "               '다양한 곡이 있어서, 노래가 좋아서', '리듬 게임에 흥미를 느껴서 (채보, 스코어링 등)', '꾸준한 곡 업데이트가 있어서', '기타']\n",
    "\n",
    "like_counts, etcs = make_counts_etc(df, '밀리시타를 좋아하는 이유가 무엇인가요?', like_values)"
   ]
  },
  {
   "cell_type": "code",
   "execution_count": null,
   "id": "ee99db92",
   "metadata": {},
   "outputs": [],
   "source": [
    "like_counts"
   ]
  },
  {
   "cell_type": "code",
   "execution_count": null,
   "id": "6df77cca",
   "metadata": {},
   "outputs": [],
   "source": [
    "for etc in etcs:\n",
    "    print(etc)"
   ]
  },
  {
   "cell_type": "markdown",
   "id": "5abcafaf",
   "metadata": {},
   "source": [
    "- 담당 14\n",
    "    - 토요카와 후카\n",
    "    - 미라이가 귀여워서\n",
    "    - 치하야가 나오는 모바일게임이라\n",
    "    - 타카네가 살아 움직이는 갓겜\n",
    "- 솔로컴온\n",
    "- 데레보단 과금 유도가 덜함\n",
    "- 노래 좋고 리겜이여서 재밌음\n",
    "- 안무\n",
    "- 느긋함\n",
    "- 이벤트 달리는게 재밌음\n",
    "- 오토가 있어서\n",
    "- 저는 밀리시타를 좋아하지 않습니다\n",
    "- 아이돌마스터여서\n",
    "- 의상 예쁜거도 많음"
   ]
  },
  {
   "cell_type": "code",
   "execution_count": null,
   "id": "109143f0",
   "metadata": {},
   "outputs": [],
   "source": [
    "y = list(like_counts.keys())[::-1]\n",
    "x = list(like_counts.values())[::-1]\n",
    "\n",
    "fig, ax = plt.subplots(figsize=(15, 5), facecolor='white')\n",
    "for location in ['right', 'top', 'bottom']:\n",
    "    ax.spines[location].set_linewidth(0)\n",
    "plt.barh(y=y, width=x, color=color, height=0.6)\n",
    "\n",
    "x_plot_min = 0\n",
    "x_plot_max = max(x) + 12\n",
    "\n",
    "plt.xlim((x_plot_min, x_plot_max))\n",
    "\n",
    "# annotate\n",
    "for idx, val in zip(y, x):\n",
    "    annot = f'─ {val} ({val/len(df)*100:.1f}%)'\n",
    "    plt.annotate(text=annot, xy=(val, idx), ha='left', va='center', fontsize=13)\n",
    "\n",
    "plt.grid(axis='x')\n",
    "plt.xticks(range(x_plot_min, x_plot_max, 20))\n",
    "plt.yticks(y, fontsize=13)\n",
    "plt.ylim((-0.5, len(y)-0.5))\n",
    "plt.tick_params(length=0)\n",
    "\n",
    "plt.title(f'밀리시타를 좋아하는 이유', fontsize=18)\n",
    "plt.show()"
   ]
  },
  {
   "cell_type": "markdown",
   "id": "85c93705",
   "metadata": {},
   "source": [
    "# 접었던 경험 - 애정도 관계"
   ]
  },
  {
   "cell_type": "code",
   "execution_count": null,
   "id": "69459b14",
   "metadata": {},
   "outputs": [],
   "source": [
    "df.groupby(['밀리시타를 접고 복귀한 경험이 있나요?']).mean()[['밀리시타에 대한 애정도를 숫자로 표현한다면?']]"
   ]
  },
  {
   "cell_type": "code",
   "execution_count": null,
   "id": "e2f63bab",
   "metadata": {},
   "outputs": [],
   "source": [
    "scores_dict = df.groupby(['밀리시타를 접고 복귀한 경험이 있나요?']).mean()['밀리시타에 대한 애정도를 숫자로 표현한다면?'].to_dict()\n",
    "\n",
    "y = list(scores_dict.keys())[::-1]\n",
    "x = list(scores_dict.values())[::-1]\n",
    "\n",
    "fig, ax = plt.subplots(figsize=(8, 2), facecolor='white')\n",
    "for location in ['right', 'top', 'bottom']:\n",
    "    ax.spines[location].set_linewidth(0)\n",
    "plt.barh(y=y, width=x, color=color, height=0.6)\n",
    "\n",
    "x_plot_min = 0\n",
    "x_plot_max = int(max(x)) + 1\n",
    "\n",
    "plt.xlim((x_plot_min, x_plot_max))\n",
    "\n",
    "# annotate\n",
    "for idx, val in zip(y, x):\n",
    "    annot = f'─ {val:.2f}점'\n",
    "    plt.annotate(text=annot, xy=(val, idx), ha='left', va='center', fontsize=13)\n",
    "\n",
    "plt.grid(axis='x')\n",
    "plt.xticks(range(x_plot_min, x_plot_max, 20))\n",
    "plt.yticks(y, fontsize=13)\n",
    "plt.ylim((-0.5, len(y)-0.5))\n",
    "plt.tick_params(length=0)\n",
    "\n",
    "plt.title(f'접었던 경험 - 애정도 관계', fontsize=18)\n",
    "plt.show()"
   ]
  },
  {
   "cell_type": "code",
   "execution_count": null,
   "id": "9ca866fa",
   "metadata": {},
   "outputs": [],
   "source": [
    "fig, ax = plt.subplots(figsize=(10, 6), facecolor='white')\n",
    "for location in ['right', 'top', 'left']:\n",
    "    ax.spines[location].set_linewidth(0)\n",
    "ax = sns.countplot(x='밀리시타에 대한 애정도를 숫자로 표현한다면?', hue='밀리시타를 접고 복귀한 경험이 있나요?', data=df, palette=[color, 'violet'])\n",
    "for container in ax.containers:\n",
    "    ax.bar_label(container, fontsize=13)\n",
    "plt.xlabel('애정도', fontsize=13)\n",
    "plt.ylabel('')\n",
    "plt.legend(fontsize=13, loc='upper left')\n",
    "plt.tick_params(length=0)\n",
    "plt.title('접고 복귀한 경험 - 애정도 관계', fontsize=18)\n",
    "plt.show()"
   ]
  },
  {
   "cell_type": "markdown",
   "id": "fd8fd53a",
   "metadata": {},
   "source": [
    "# 밀리시타를 접게 되는 이유"
   ]
  },
  {
   "cell_type": "code",
   "execution_count": null,
   "id": "18c2b9e7",
   "metadata": {},
   "outputs": [],
   "source": [
    "dislike_values = [\n",
    "    '낮은 가챠 확률 (SHS, 한정 가챠(페어/염색) 등)', '높은 천장 가격 (300뽑)', '아이돌 차별 - SSR, 이벤트 등 의상', '아이돌 차별 - 헤어(SHS) 퀄리티 차이',\n",
    "    '아이돌 차별 - 긴 이벤트 간격 (상위 기준)', '아이돌 차별 - 내부 컨텐츠 차별 (가챠 간격, 주년 키비주얼, 배역 투표 등)', '아이돌 차별 - 외부 컨텐츠 차별 (콜라보, VOY@GER 등 곡 참가, 스탈릿 시즌 등)',\n",
    "    '운영 - 90%를 위한 운영 (성머 위주의 라이브 방송 등)', '운영 - 재투자 (밀리 애니 퀄리티, 노말 일러스트 굿즈 등)', '운영 - 재미 없는 이벤트 (노가다성)', \n",
    "    '운영 - 재미 없는 커뮤', '운영 - 모델링 등 그 외 인게임 문제', '씹타갤 영차 당해서 (갤질용)', '섭종까지 계속 할 예정이다.', '기타'\n",
    "]\n",
    "\n",
    "dislike_counts, etcs = make_counts_etc(df, '밀리시타를 접은 경험이 있다면/만약 접게 된다면 그 이유가 무엇이었나요/무엇일까요?', dislike_values)"
   ]
  },
  {
   "cell_type": "code",
   "execution_count": null,
   "id": "96dbc877",
   "metadata": {},
   "outputs": [],
   "source": [
    "dislike_counts"
   ]
  },
  {
   "cell_type": "code",
   "execution_count": null,
   "id": "767559bd",
   "metadata": {},
   "outputs": [],
   "source": [
    "for etc in etcs:\n",
    "    print(etc)"
   ]
  },
  {
   "cell_type": "markdown",
   "id": "a9e427ee",
   "metadata": {},
   "source": [
    "- 조타 15\n",
    "- 군대 8\n",
    "- 현생 8\n",
    "- 운영 6\n",
    "- 숙제처럼 느껴져서, 질려서 3\n",
    "- 갤창나서, 투표범죄 2\n",
    "- 리듬게임인데 쉬운 난이도 2\n",
    "- 공부 2\n",
    "- 노래 퀄리티가 안 좋아지면 2\n",
    "- 아이디연동 2\n",
    "\n",
    "- 굿슬립\n",
    "- 안접음\n",
    "- 아이돌삼국지 내주ㅜ\n",
    "- 예전에 제대로 안 했음\n",
    "- 이벤런 파킨\n",
    "- 씹레랑 말딸하느라 접음 폰 기종이 예전꺼라 로딩때문에 접은것도 있고\n",
    "- 히나타 SHS\n",
    "- 치하야 가슴사이즈 증가\n",
    "- 좆목\n",
    "- 총체적 난국\n",
    "- 연속으로 통상에 천장박고 현타옴"
   ]
  },
  {
   "cell_type": "code",
   "execution_count": null,
   "id": "ca3e8cc0",
   "metadata": {},
   "outputs": [],
   "source": [
    "y = list(dislike_counts.keys())[::-1]\n",
    "x = list(dislike_counts.values())[::-1]\n",
    "\n",
    "fig, ax = plt.subplots(figsize=(15, 8), facecolor='white')\n",
    "for location in ['right', 'top', 'bottom']:\n",
    "    ax.spines[location].set_linewidth(0)\n",
    "plt.barh(y=y, width=x, color=color)\n",
    "\n",
    "x_plot_min = 0\n",
    "x_plot_max = max(x) + 10\n",
    "\n",
    "plt.xlim((x_plot_min, x_plot_max))\n",
    "\n",
    "# annotate\n",
    "for idx, val in zip(y, x):\n",
    "    annot = f'─ {val} ({val/len(df)*100:.1f}%)'\n",
    "    plt.annotate(text=annot, xy=(val, idx), ha='left', va='center', fontsize=13)\n",
    "\n",
    "plt.grid(axis='x')\n",
    "plt.xticks(range(x_plot_min, x_plot_max, 10))\n",
    "plt.yticks(y, fontsize=13)\n",
    "plt.ylim((-0.5, len(y)-0.5))\n",
    "plt.tick_params(length=0)\n",
    "\n",
    "plt.title(f'밀리시타를 접게 되는 이유', fontsize=18)\n",
    "plt.show()"
   ]
  },
  {
   "cell_type": "markdown",
   "id": "d70c7c17",
   "metadata": {},
   "source": [
    "# 밀리시타를 접게 되는 가장 중요한 이유"
   ]
  },
  {
   "cell_type": "code",
   "execution_count": null,
   "id": "f8bc7eab",
   "metadata": {},
   "outputs": [],
   "source": [
    "dislike_values = [\n",
    "    '낮은 가챠 확률 (SHS, 한정 가챠(페어/염색) 등)', '높은 천장 가격 (300뽑)', '아이돌 차별 - SSR, 이벤트 등 의상 퀄리티 차이', '아이돌 차별 - 헤어(SHS) 퀄리티 차이',\n",
    "    '아이돌 차별 - 긴 이벤트 간격 (상위 기준)', '아이돌 차별 - 내부 컨텐츠 차별 (가챠 간격, 주년 키비주얼, 배역 투표 등)', '아이돌 차별 - 외부 컨텐츠 차별 (콜라보, VOY@GER 등 곡 참가, 스탈릿 시즌 등)',\n",
    "    '운영 - 90%를 위한 운영 (성머 위주의 라이브 방송 등)', '운영 - 재투자 (밀리 애니 퀄리티, 노말 일러스트 굿즈 등)', '운영 - 재미 없는 이벤트 (노가다성)', \n",
    "    '운영 - 재미 없는 커뮤', '운영 - 모델링 등 그 외 인게임 문제', '씹타갤 영차 당해서 (갤질용)', '섭종까지 계속 할 예정이다.', '기타'\n",
    "]\n",
    "\n",
    "mst_dislike_counts, etcs = make_counts_etc(df, '위 질문 중 가장 중요한 이유 한 가지만 선택한다면?', dislike_values)"
   ]
  },
  {
   "cell_type": "code",
   "execution_count": null,
   "id": "faaec277",
   "metadata": {},
   "outputs": [],
   "source": [
    "mst_dislike_counts"
   ]
  },
  {
   "cell_type": "code",
   "execution_count": null,
   "id": "359a22f3",
   "metadata": {},
   "outputs": [],
   "source": [
    "for etc in etcs:\n",
    "    print(etc)"
   ]
  },
  {
   "cell_type": "code",
   "execution_count": null,
   "id": "19e0ee20",
   "metadata": {},
   "outputs": [],
   "source": [
    "y = list(mst_dislike_counts.keys())[::-1]\n",
    "x = list(mst_dislike_counts.values())[::-1]\n",
    "\n",
    "fig, ax = plt.subplots(figsize=(15, 8), facecolor='white')\n",
    "for location in ['right', 'top', 'bottom']:\n",
    "    ax.spines[location].set_linewidth(0)\n",
    "plt.barh(y=y, width=x, color=color, height=0.6)\n",
    "\n",
    "x_plot_min = 0\n",
    "x_plot_max = max(x) + 10\n",
    "\n",
    "plt.xlim((x_plot_min, x_plot_max))\n",
    "\n",
    "# annotate\n",
    "for idx, val in zip(y, x):\n",
    "    annot = f'─ {val} ({val/len(df)*100:.1f}%)'\n",
    "    plt.annotate(text=annot, xy=(val, idx), ha='left', va='center', fontsize=13)\n",
    "\n",
    "plt.grid(axis='x')\n",
    "plt.xticks(range(x_plot_min, x_plot_max, 10))\n",
    "plt.yticks(y, fontsize=13)\n",
    "plt.ylim((-0.5, len(y)-0.5))\n",
    "plt.tick_params(length=0)\n",
    "\n",
    "plt.title(f'밀리시타를 접게 되는 가장 중요한 이유', fontsize=18)\n",
    "plt.show()"
   ]
  },
  {
   "cell_type": "markdown",
   "id": "aec32201",
   "metadata": {},
   "source": [
    "## 플레이 기간 그룹별 가장 중요한 이유"
   ]
  },
  {
   "cell_type": "code",
   "execution_count": null,
   "id": "58cfa974",
   "metadata": {},
   "outputs": [],
   "source": [
    "df_play_group_ = df.copy().sort_values(by='밀리시타를 얼마나 오랜 기간 플레이 중인가요?')\n",
    "for etc in etcs:\n",
    "    df_play_group_['위 질문 중 가장 중요한 이유 한 가지만 선택한다면?'].replace({etc:'기타'}, inplace=True)\n",
    "df_play_group_['위 질문 중 가장 중요한 이유 한 가지만 선택한다면?'].replace({'게임이 너무 느려요 ':'기타'}, inplace=True)\n",
    "df_play_group_['위 질문 중 가장 중요한 이유 한 가지만 선택한다면?'] = pd.Categorical(df_play_group_['위 질문 중 가장 중요한 이유 한 가지만 선택한다면?'], dislike_values)\n",
    "fig, ax = plt.subplots(figsize=(15, 8), facecolor='white')\n",
    "for location in ['right', 'top', 'bottom']:\n",
    "    ax.spines[location].set_linewidth(0)\n",
    "b = sns.histplot(data=df_play_group_, \n",
    "             y='위 질문 중 가장 중요한 이유 한 가지만 선택한다면?',\n",
    "             hue='밀리시타를 얼마나 오랜 기간 플레이 중인가요?', \n",
    "             multiple='stack', shrink=.6,)\n",
    "b.set_yticklabels(labels=dislike_values, fontsize=13)\n",
    "b.set_xlim((0, x_plot_max))\n",
    "b.set_ylim((len(y)-0.5, -0.5))\n",
    "plt.xlabel('')\n",
    "plt.ylabel('')\n",
    "for idx, val in zip(y, x):\n",
    "    annot = f'─ {val} ({val/len(df)*100:.1f}%)'\n",
    "    plt.annotate(text=annot, xy=(val, idx), ha='left', va='center', fontsize=13)\n",
    "\n",
    "plt.grid(axis='x')\n",
    "plt.tick_params(length=0)\n",
    "plt.show()"
   ]
  },
  {
   "cell_type": "markdown",
   "id": "6b3a5eb7",
   "metadata": {},
   "source": [
    "# 계속하는 이유"
   ]
  },
  {
   "cell_type": "code",
   "execution_count": null,
   "id": "ee65675e",
   "metadata": {},
   "outputs": [],
   "source": [
    "continue_values = ['담당 아이돌이 있으니까', '담당 아이돌을 비롯한 여러 아이돌이 있으니까', '곡이 꾸준히 업데이트 되고 노래도 좋아서',\n",
    "                   '아이마스 IP가 좋아서', '밀리시타보다 괜찮은 씹덕 리듬겜이 없어서', '금전적, 시간적 매몰 비용 때문에', \n",
    "                   '운영이 좋아질 거라는 믿음 때문에 (반남과 총괄에 대한 믿음)', '밀리 애니를 믿기 때문에', '유입된 지 얼마 되지 않아서',\n",
    "                   '기타']\n",
    "\n",
    "continue_counts, etcs = make_counts_etc(df, '위의 이유에도 불구하고 밀리시타 복귀/계속 하는 이유는?', continue_values)"
   ]
  },
  {
   "cell_type": "code",
   "execution_count": null,
   "id": "feec7b69",
   "metadata": {},
   "outputs": [],
   "source": [
    "continue_counts"
   ]
  },
  {
   "cell_type": "code",
   "execution_count": null,
   "id": "8861452b",
   "metadata": {},
   "outputs": [],
   "source": [
    "for etc in etcs:\n",
    "    print(etc)"
   ]
  },
  {
   "cell_type": "code",
   "execution_count": null,
   "id": "de2af6da",
   "metadata": {},
   "outputs": [],
   "source": [
    "y = list(continue_counts.keys())[::-1]\n",
    "x = list(continue_counts.values())[::-1]\n",
    "\n",
    "fig, ax = plt.subplots(figsize=(15, 6), facecolor='white')\n",
    "for location in ['right', 'top', 'bottom']:\n",
    "    ax.spines[location].set_linewidth(0)\n",
    "plt.barh(y=y, width=x, color=color, height=0.6)\n",
    "\n",
    "x_plot_min = 0\n",
    "x_plot_max = max(x) + 10\n",
    "\n",
    "plt.xlim((x_plot_min, x_plot_max))\n",
    "\n",
    "# annotate\n",
    "for idx, val in zip(y, x):\n",
    "    annot = f'─ {val} ({val/len(df)*100:.1f}%)'\n",
    "    plt.annotate(text=annot, xy=(val, idx), ha='left', va='center', fontsize=13)\n",
    "\n",
    "plt.grid(axis='x')\n",
    "plt.xticks(range(x_plot_min, x_plot_max, 10))\n",
    "plt.yticks(y, fontsize=13)\n",
    "plt.ylim((-0.5, len(y)-0.5))\n",
    "plt.tick_params(length=0)\n",
    "\n",
    "plt.title(f'밀리시타를 계속하는 이유', fontsize=18)\n",
    "plt.show()"
   ]
  },
  {
   "cell_type": "markdown",
   "id": "4d285127",
   "metadata": {},
   "source": [
    "# 다른 게임 출시한다면"
   ]
  },
  {
   "cell_type": "code",
   "execution_count": null,
   "id": "c5625b41",
   "metadata": {},
   "outputs": [],
   "source": [
    "if_values = ['밀리시타는 계속 하면서, 다른 게임이 어떤 것이든 일단 해본다.',\n",
    "             '밀리시타는 계속 하면서, 다른 게임의 장르나 퀄리티에 따라 결정한다.',\n",
    "             '밀리시타만 계속 한다.', '다른 게임으로 넘어간다.', '기타']\n",
    "\n",
    "if_counts, etcs = make_counts_etc(df, '밀리언 라이브 IP의 다른 게임이 출시한다면?', if_values)"
   ]
  },
  {
   "cell_type": "code",
   "execution_count": null,
   "id": "6eb8c2b9",
   "metadata": {},
   "outputs": [],
   "source": [
    "if_counts"
   ]
  },
  {
   "cell_type": "code",
   "execution_count": null,
   "id": "5554b882",
   "metadata": {},
   "outputs": [],
   "source": [
    "for etc in etcs:\n",
    "    print(etc)"
   ]
  },
  {
   "cell_type": "code",
   "execution_count": null,
   "id": "a45af0bb",
   "metadata": {},
   "outputs": [],
   "source": [
    "y = list(if_counts.keys())[::-1]\n",
    "x = list(if_counts.values())[::-1]\n",
    "\n",
    "fig, ax = plt.subplots(figsize=(15, 3), facecolor='white')\n",
    "for location in ['right', 'top', 'bottom']:\n",
    "    ax.spines[location].set_linewidth(0)\n",
    "plt.barh(y=y, width=x, color=color, height=0.6)\n",
    "\n",
    "x_plot_min = 0\n",
    "x_plot_max = max(x) + 12\n",
    "\n",
    "plt.xlim((x_plot_min, x_plot_max))\n",
    "\n",
    "# annotate\n",
    "for idx, val in zip(y, x):\n",
    "    annot = f'─ {val} ({val/len(df)*100:.1f}%)'\n",
    "    plt.annotate(text=annot, xy=(val, idx), ha='left', va='center', fontsize=13)\n",
    "\n",
    "plt.grid(axis='x')\n",
    "plt.xticks(range(x_plot_min, x_plot_max, 15))\n",
    "plt.yticks(y, fontsize=13)\n",
    "plt.ylim((-0.5, len(y)-0.5))\n",
    "plt.tick_params(length=0)\n",
    "\n",
    "plt.title(f'밀리시타 IP 다른 게임이 출시된다면', fontsize=18)\n",
    "plt.show()"
   ]
  },
  {
   "cell_type": "markdown",
   "id": "b3e26805",
   "metadata": {},
   "source": [
    "## 다른 게임 출시한다면 - 애정도 관계"
   ]
  },
  {
   "cell_type": "code",
   "execution_count": null,
   "id": "1228bd10",
   "metadata": {},
   "outputs": [],
   "source": [
    "if_df = df_org.copy()\n",
    "\n",
    "if_df.loc[~if_df['밀리언 라이브 IP의 다른 게임이 출시한다면?'].isin(if_values), '밀리언 라이브 IP의 다른 게임이 출시한다면?'] = '기타'"
   ]
  },
  {
   "cell_type": "code",
   "execution_count": null,
   "id": "d542ed61",
   "metadata": {},
   "outputs": [],
   "source": [
    "if_df_group = if_df.groupby(['밀리언 라이브 IP의 다른 게임이 출시한다면?']).mean()[['밀리시타에 대한 애정도를 숫자로 표현한다면?']].loc[if_values]\n",
    "if_df_group"
   ]
  },
  {
   "cell_type": "code",
   "execution_count": null,
   "id": "8bbfe1f2",
   "metadata": {},
   "outputs": [],
   "source": [
    "y = list(if_df_group.index)[::-1]\n",
    "x = list(if_df_group.iloc[:,0].values)[::-1]\n",
    "\n",
    "fig, ax = plt.subplots(figsize=(15, 3), facecolor='white')\n",
    "for location in ['right', 'top', 'bottom']:\n",
    "    ax.spines[location].set_linewidth(0)\n",
    "plt.barh(y=y, width=x, color=color, height=0.6)\n",
    "\n",
    "x_plot_min = 0\n",
    "x_plot_max = 10\n",
    "\n",
    "plt.xlim((x_plot_min, x_plot_max))\n",
    "\n",
    "# annotate\n",
    "for idx, val in zip(y, x):\n",
    "    annot = f'─ {val:.2f}점'\n",
    "    plt.annotate(text=annot, xy=(val, idx), ha='left', va='center', fontsize=13)\n",
    "\n",
    "plt.grid(axis='x')\n",
    "plt.xticks(range(x_plot_min, x_plot_max, 1))\n",
    "plt.yticks(y, fontsize=13)\n",
    "plt.ylim((-0.5, len(y)-0.5))\n",
    "plt.tick_params(length=0)\n",
    "\n",
    "plt.title(f'다른 게임 출시한다면 - 애정도 관계', fontsize=18)\n",
    "plt.show()"
   ]
  },
  {
   "cell_type": "code",
   "execution_count": null,
   "id": "8ec40711",
   "metadata": {},
   "outputs": [],
   "source": []
  }
 ],
 "metadata": {
  "kernelspec": {
   "display_name": "Python 3.9",
   "language": "python",
   "name": "py39"
  },
  "language_info": {
   "codemirror_mode": {
    "name": "ipython",
    "version": 3
   },
   "file_extension": ".py",
   "mimetype": "text/x-python",
   "name": "python",
   "nbconvert_exporter": "python",
   "pygments_lexer": "ipython3",
   "version": "3.9.12"
  },
  "toc": {
   "base_numbering": 1,
   "nav_menu": {},
   "number_sections": false,
   "sideBar": true,
   "skip_h1_title": false,
   "title_cell": "Table of Contents",
   "title_sidebar": "Contents",
   "toc_cell": false,
   "toc_position": {
    "height": "749px",
    "left": "32px",
    "top": "111.125px",
    "width": "384px"
   },
   "toc_section_display": true,
   "toc_window_display": true
  }
 },
 "nbformat": 4,
 "nbformat_minor": 5
}
