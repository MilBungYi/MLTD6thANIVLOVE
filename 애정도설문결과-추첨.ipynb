{
 "cells": [
  {
   "cell_type": "code",
   "execution_count": 1,
   "id": "58de8d5f",
   "metadata": {},
   "outputs": [],
   "source": [
    "import random\n",
    "import pandas as pd\n",
    "\n",
    "seed = 765639 # 765 6주년 39\n",
    "random.seed(seed)"
   ]
  },
  {
   "cell_type": "code",
   "execution_count": 5,
   "id": "90785c01",
   "metadata": {},
   "outputs": [],
   "source": [
    "usecols = [\n",
    "    '당신의 담당 아이돌은 누구인가요?',\n",
    "    '추첨할 숫자 입력'\n",
    "          ]\n",
    "\n",
    "df = pd.read_csv(\"밀리시타 애정도 설문(응답) - 설문지 응답 시트1.csv\", usecols=usecols, dtype=str)"
   ]
  },
  {
   "cell_type": "code",
   "execution_count": 6,
   "id": "ef998fd8",
   "metadata": {},
   "outputs": [
    {
     "data": {
      "text/plain": [
       "6974    7\n",
       "1557    6\n",
       "765     4\n",
       "39      4\n",
       "0       4\n",
       "1234    3\n",
       "121     3\n",
       "72      2\n",
       "32      2\n",
       "523     2\n",
       "4747    2\n",
       "0829    2\n",
       "719     2\n",
       "7777    2\n",
       "5882    2\n",
       "-1      2\n",
       "0118    2\n",
       "2222    2\n",
       "283     2\n",
       "23      2\n",
       "8765    2\n",
       "7272    2\n",
       "627     1\n",
       "8577    1\n",
       "6759    1\n",
       "6581    1\n",
       "1994    1\n",
       "6797    1\n",
       "730     1\n",
       "622     1\n",
       "Name: 추첨할 숫자 입력, dtype: int64"
      ]
     },
     "execution_count": 6,
     "metadata": {},
     "output_type": "execute_result"
    }
   ],
   "source": [
    "df[usecols[-1]].value_counts().head(30)"
   ]
  },
  {
   "cell_type": "code",
   "execution_count": 7,
   "id": "20a29c76",
   "metadata": {},
   "outputs": [
    {
     "data": {
      "text/plain": [
       "타카네121               3\n",
       "시호0118               2\n",
       "아즈사719               2\n",
       "아리사, 우미6634          1\n",
       "미키523                1\n",
       "                    ..\n",
       "안나8765               1\n",
       "츠바사, 미즈키, 줄리아6974    1\n",
       "야요이0                 1\n",
       "미즈키1356              1\n",
       "카나7754               1\n",
       "Length: 238, dtype: int64"
      ]
     },
     "execution_count": 7,
     "metadata": {},
     "output_type": "execute_result"
    }
   ],
   "source": [
    "(df[usecols[0]] + df[usecols[1]].astype(str)).value_counts()"
   ]
  },
  {
   "cell_type": "code",
   "execution_count": 8,
   "id": "108e8456",
   "metadata": {},
   "outputs": [],
   "source": [
    "def 추첨1(data, num=10):\n",
    "    # 버걱스 세트\n",
    "    data = data.copy()\n",
    "    data['난수'] = [round(random.random() * 100, 2) for _ in range(len(data))]\n",
    "    \n",
    "    return data.sort_values(by='난수', ascending=False).head(num)"
   ]
  },
  {
   "cell_type": "code",
   "execution_count": 9,
   "id": "6265129c",
   "metadata": {},
   "outputs": [
    {
     "data": {
      "text/html": [
       "<div>\n",
       "<style scoped>\n",
       "    .dataframe tbody tr th:only-of-type {\n",
       "        vertical-align: middle;\n",
       "    }\n",
       "\n",
       "    .dataframe tbody tr th {\n",
       "        vertical-align: top;\n",
       "    }\n",
       "\n",
       "    .dataframe thead th {\n",
       "        text-align: right;\n",
       "    }\n",
       "</style>\n",
       "<table border=\"1\" class=\"dataframe\">\n",
       "  <thead>\n",
       "    <tr style=\"text-align: right;\">\n",
       "      <th></th>\n",
       "      <th>당신의 담당 아이돌은 누구인가요?</th>\n",
       "      <th>추첨할 숫자 입력</th>\n",
       "      <th>난수</th>\n",
       "    </tr>\n",
       "  </thead>\n",
       "  <tbody>\n",
       "    <tr>\n",
       "      <th>170</th>\n",
       "      <td>야요이, 이오리, 히비키</td>\n",
       "      <td>1374</td>\n",
       "      <td>99.70</td>\n",
       "    </tr>\n",
       "    <tr>\n",
       "      <th>66</th>\n",
       "      <td>로코</td>\n",
       "      <td>5654</td>\n",
       "      <td>99.65</td>\n",
       "    </tr>\n",
       "    <tr>\n",
       "      <th>236</th>\n",
       "      <td>코토하</td>\n",
       "      <td>0</td>\n",
       "      <td>97.69</td>\n",
       "    </tr>\n",
       "    <tr>\n",
       "      <th>215</th>\n",
       "      <td>리오</td>\n",
       "      <td>0906</td>\n",
       "      <td>97.17</td>\n",
       "    </tr>\n",
       "    <tr>\n",
       "      <th>176</th>\n",
       "      <td>야요이</td>\n",
       "      <td>7478</td>\n",
       "      <td>97.16</td>\n",
       "    </tr>\n",
       "    <tr>\n",
       "      <th>149</th>\n",
       "      <td>이오리, 모모코</td>\n",
       "      <td>5301</td>\n",
       "      <td>97.05</td>\n",
       "    </tr>\n",
       "    <tr>\n",
       "      <th>220</th>\n",
       "      <td>시즈카</td>\n",
       "      <td>2357</td>\n",
       "      <td>97.01</td>\n",
       "    </tr>\n",
       "    <tr>\n",
       "      <th>8</th>\n",
       "      <td>유키호, 로코, 아리사</td>\n",
       "      <td>8746</td>\n",
       "      <td>96.96</td>\n",
       "    </tr>\n",
       "    <tr>\n",
       "      <th>221</th>\n",
       "      <td>유키호</td>\n",
       "      <td>7124</td>\n",
       "      <td>96.75</td>\n",
       "    </tr>\n",
       "    <tr>\n",
       "      <th>223</th>\n",
       "      <td>레이카</td>\n",
       "      <td>6974</td>\n",
       "      <td>96.15</td>\n",
       "    </tr>\n",
       "  </tbody>\n",
       "</table>\n",
       "</div>"
      ],
      "text/plain": [
       "    당신의 담당 아이돌은 누구인가요? 추첨할 숫자 입력     난수\n",
       "170      야요이, 이오리, 히비키      1374  99.70\n",
       "66                  로코      5654  99.65\n",
       "236                코토하         0  97.69\n",
       "215                 리오      0906  97.17\n",
       "176                야요이      7478  97.16\n",
       "149           이오리, 모모코      5301  97.05\n",
       "220                시즈카      2357  97.01\n",
       "8         유키호, 로코, 아리사      8746  96.96\n",
       "221                유키호      7124  96.75\n",
       "223                레이카      6974  96.15"
      ]
     },
     "execution_count": 9,
     "metadata": {},
     "output_type": "execute_result"
    }
   ],
   "source": [
    "추첨1(df)"
   ]
  },
  {
   "cell_type": "code",
   "execution_count": 10,
   "id": "e1482b60",
   "metadata": {},
   "outputs": [],
   "source": [
    "def 추첨2(data, num=10):\n",
    "    # 버걱스 단품\n",
    "    data = data.copy()\n",
    "    nums = data.index.tolist()\n",
    "    idx = random.choices(nums, k=num)\n",
    "    \n",
    "    return data.loc[idx]"
   ]
  },
  {
   "cell_type": "code",
   "execution_count": 11,
   "id": "de4d85e7",
   "metadata": {},
   "outputs": [
    {
     "data": {
      "text/html": [
       "<div>\n",
       "<style scoped>\n",
       "    .dataframe tbody tr th:only-of-type {\n",
       "        vertical-align: middle;\n",
       "    }\n",
       "\n",
       "    .dataframe tbody tr th {\n",
       "        vertical-align: top;\n",
       "    }\n",
       "\n",
       "    .dataframe thead th {\n",
       "        text-align: right;\n",
       "    }\n",
       "</style>\n",
       "<table border=\"1\" class=\"dataframe\">\n",
       "  <thead>\n",
       "    <tr style=\"text-align: right;\">\n",
       "      <th></th>\n",
       "      <th>당신의 담당 아이돌은 누구인가요?</th>\n",
       "      <th>추첨할 숫자 입력</th>\n",
       "    </tr>\n",
       "  </thead>\n",
       "  <tbody>\n",
       "    <tr>\n",
       "      <th>203</th>\n",
       "      <td>코노미</td>\n",
       "      <td>-9999999</td>\n",
       "    </tr>\n",
       "    <tr>\n",
       "      <th>229</th>\n",
       "      <td>우미</td>\n",
       "      <td>83</td>\n",
       "    </tr>\n",
       "    <tr>\n",
       "      <th>10</th>\n",
       "      <td>유리코</td>\n",
       "      <td>2052</td>\n",
       "    </tr>\n",
       "    <tr>\n",
       "      <th>240</th>\n",
       "      <td>코토하</td>\n",
       "      <td>12</td>\n",
       "    </tr>\n",
       "    <tr>\n",
       "      <th>99</th>\n",
       "      <td>줄리아</td>\n",
       "      <td>5000</td>\n",
       "    </tr>\n",
       "    <tr>\n",
       "      <th>223</th>\n",
       "      <td>레이카</td>\n",
       "      <td>6974</td>\n",
       "    </tr>\n",
       "    <tr>\n",
       "      <th>112</th>\n",
       "      <td>에밀리</td>\n",
       "      <td>7777</td>\n",
       "    </tr>\n",
       "    <tr>\n",
       "      <th>152</th>\n",
       "      <td>하루카</td>\n",
       "      <td>403</td>\n",
       "    </tr>\n",
       "    <tr>\n",
       "      <th>46</th>\n",
       "      <td>아카네</td>\n",
       "      <td>32</td>\n",
       "    </tr>\n",
       "    <tr>\n",
       "      <th>199</th>\n",
       "      <td>미나코, 우미, 나오</td>\n",
       "      <td>6974</td>\n",
       "    </tr>\n",
       "  </tbody>\n",
       "</table>\n",
       "</div>"
      ],
      "text/plain": [
       "    당신의 담당 아이돌은 누구인가요? 추첨할 숫자 입력\n",
       "203                코노미  -9999999\n",
       "229                 우미        83\n",
       "10                 유리코      2052\n",
       "240                코토하        12\n",
       "99                 줄리아      5000\n",
       "223                레이카      6974\n",
       "112                에밀리      7777\n",
       "152                하루카       403\n",
       "46                 아카네        32\n",
       "199        미나코, 우미, 나오      6974"
      ]
     },
     "execution_count": 11,
     "metadata": {},
     "output_type": "execute_result"
    }
   ],
   "source": [
    "추첨2(df)"
   ]
  },
  {
   "cell_type": "code",
   "execution_count": null,
   "id": "7808bd83",
   "metadata": {},
   "outputs": [],
   "source": []
  }
 ],
 "metadata": {
  "kernelspec": {
   "display_name": "Python 3.9",
   "language": "python",
   "name": "py39"
  },
  "language_info": {
   "codemirror_mode": {
    "name": "ipython",
    "version": 3
   },
   "file_extension": ".py",
   "mimetype": "text/x-python",
   "name": "python",
   "nbconvert_exporter": "python",
   "pygments_lexer": "ipython3",
   "version": "3.9.12"
  },
  "toc": {
   "base_numbering": 1,
   "nav_menu": {},
   "number_sections": false,
   "sideBar": true,
   "skip_h1_title": false,
   "title_cell": "Table of Contents",
   "title_sidebar": "Contents",
   "toc_cell": false,
   "toc_position": {},
   "toc_section_display": true,
   "toc_window_display": false
  }
 },
 "nbformat": 4,
 "nbformat_minor": 5
}
